{
 "cells": [
  {
   "cell_type": "code",
   "execution_count": 101,
   "id": "a75c7e6d-ad4f-4242-9ae5-338360316c04",
   "metadata": {},
   "outputs": [],
   "source": [
    "import pandas as pd\n",
    "import numpy as np\n",
    "\n",
    "import seaborn as sns\n",
    "from matplotlib import pyplot as plt\n",
    "%matplotlib inline"
   ]
  },
  {
   "cell_type": "markdown",
   "id": "48faf5bf-547c-4cec-924a-47af6f156fc5",
   "metadata": {},
   "source": [
    "**Dataset from kaggle**"
   ]
  },
  {
   "cell_type": "code",
   "execution_count": 102,
   "id": "37d511c3-cbe2-403d-850c-70140f2d2de9",
   "metadata": {},
   "outputs": [
    {
     "name": "stdout",
     "output_type": "stream",
     "text": [
      "--2024-10-03 18:19:47--  https://raw.githubusercontent.com/alexeygrigorev/datasets/master/laptops.csv\n",
      "Resolving raw.githubusercontent.com (raw.githubusercontent.com)... 185.199.111.133, 185.199.108.133, 185.199.109.133, ...\n",
      "Connecting to raw.githubusercontent.com (raw.githubusercontent.com)|185.199.111.133|:443... connected.\n",
      "HTTP request sent, awaiting response... 200 OK\n",
      "Length: 298573 (292K) [text/plain]\n",
      "Saving to: ‘laptops.csv.7’\n",
      "\n",
      "laptops.csv.7       100%[===================>] 291.58K  --.-KB/s    in 0.01s   \n",
      "\n",
      "2024-10-03 18:19:47 (24.7 MB/s) - ‘laptops.csv.7’ saved [298573/298573]\n",
      "\n"
     ]
    }
   ],
   "source": [
    "!wget https://raw.githubusercontent.com/alexeygrigorev/datasets/master/laptops.csv"
   ]
  },
  {
   "cell_type": "code",
   "execution_count": 103,
   "id": "c746d424-683e-4406-86d1-ba037f4b2033",
   "metadata": {},
   "outputs": [],
   "source": [
    "df = pd.read_csv('laptops.csv')"
   ]
  },
  {
   "cell_type": "markdown",
   "id": "71acd8f4-8f22-4d41-a311-9d49b9a700fd",
   "metadata": {},
   "source": [
    "**Dataset preparation - normalization of columns**"
   ]
  },
  {
   "cell_type": "code",
   "execution_count": 104,
   "id": "4b34dc3a-2aaf-46c8-bbee-21e1c969dccc",
   "metadata": {},
   "outputs": [],
   "source": [
    "df.columns = df.columns.str.lower().str.replace(' ', '_')"
   ]
  },
  {
   "cell_type": "markdown",
   "id": "6e103f9d-a477-4c19-86e6-579edb40b0bd",
   "metadata": {},
   "source": [
    "**filtering columns for needed features**"
   ]
  },
  {
   "cell_type": "code",
   "execution_count": 105,
   "id": "da6ecf61-c4f6-4698-9603-739a30151af7",
   "metadata": {},
   "outputs": [],
   "source": [
    "df = df[['ram',\n",
    "        'storage',\n",
    "        'screen',\n",
    "        'final_price'\n",
    "        ]]"
   ]
  },
  {
   "cell_type": "code",
   "execution_count": 106,
   "id": "a276aff1-6b69-4943-9a79-e008d0f6a900",
   "metadata": {},
   "outputs": [
    {
     "data": {
      "text/html": [
       "<div>\n",
       "<style scoped>\n",
       "    .dataframe tbody tr th:only-of-type {\n",
       "        vertical-align: middle;\n",
       "    }\n",
       "\n",
       "    .dataframe tbody tr th {\n",
       "        vertical-align: top;\n",
       "    }\n",
       "\n",
       "    .dataframe thead th {\n",
       "        text-align: right;\n",
       "    }\n",
       "</style>\n",
       "<table border=\"1\" class=\"dataframe\">\n",
       "  <thead>\n",
       "    <tr style=\"text-align: right;\">\n",
       "      <th></th>\n",
       "      <th>ram</th>\n",
       "      <th>storage</th>\n",
       "      <th>screen</th>\n",
       "      <th>final_price</th>\n",
       "    </tr>\n",
       "  </thead>\n",
       "  <tbody>\n",
       "    <tr>\n",
       "      <th>0</th>\n",
       "      <td>8</td>\n",
       "      <td>512</td>\n",
       "      <td>15.6</td>\n",
       "      <td>1009.00</td>\n",
       "    </tr>\n",
       "    <tr>\n",
       "      <th>1</th>\n",
       "      <td>8</td>\n",
       "      <td>256</td>\n",
       "      <td>15.6</td>\n",
       "      <td>299.00</td>\n",
       "    </tr>\n",
       "    <tr>\n",
       "      <th>2</th>\n",
       "      <td>8</td>\n",
       "      <td>256</td>\n",
       "      <td>15.6</td>\n",
       "      <td>789.00</td>\n",
       "    </tr>\n",
       "    <tr>\n",
       "      <th>3</th>\n",
       "      <td>16</td>\n",
       "      <td>1000</td>\n",
       "      <td>15.6</td>\n",
       "      <td>1199.00</td>\n",
       "    </tr>\n",
       "    <tr>\n",
       "      <th>4</th>\n",
       "      <td>16</td>\n",
       "      <td>512</td>\n",
       "      <td>15.6</td>\n",
       "      <td>669.01</td>\n",
       "    </tr>\n",
       "    <tr>\n",
       "      <th>...</th>\n",
       "      <td>...</td>\n",
       "      <td>...</td>\n",
       "      <td>...</td>\n",
       "      <td>...</td>\n",
       "    </tr>\n",
       "    <tr>\n",
       "      <th>2155</th>\n",
       "      <td>16</td>\n",
       "      <td>1000</td>\n",
       "      <td>17.3</td>\n",
       "      <td>2699.99</td>\n",
       "    </tr>\n",
       "    <tr>\n",
       "      <th>2156</th>\n",
       "      <td>16</td>\n",
       "      <td>1000</td>\n",
       "      <td>17.3</td>\n",
       "      <td>2899.99</td>\n",
       "    </tr>\n",
       "    <tr>\n",
       "      <th>2157</th>\n",
       "      <td>32</td>\n",
       "      <td>1000</td>\n",
       "      <td>17.3</td>\n",
       "      <td>3399.99</td>\n",
       "    </tr>\n",
       "    <tr>\n",
       "      <th>2158</th>\n",
       "      <td>16</td>\n",
       "      <td>1000</td>\n",
       "      <td>13.4</td>\n",
       "      <td>1899.99</td>\n",
       "    </tr>\n",
       "    <tr>\n",
       "      <th>2159</th>\n",
       "      <td>16</td>\n",
       "      <td>256</td>\n",
       "      <td>13.4</td>\n",
       "      <td>1699.99</td>\n",
       "    </tr>\n",
       "  </tbody>\n",
       "</table>\n",
       "<p>2160 rows × 4 columns</p>\n",
       "</div>"
      ],
      "text/plain": [
       "      ram  storage  screen  final_price\n",
       "0       8      512    15.6      1009.00\n",
       "1       8      256    15.6       299.00\n",
       "2       8      256    15.6       789.00\n",
       "3      16     1000    15.6      1199.00\n",
       "4      16      512    15.6       669.01\n",
       "...   ...      ...     ...          ...\n",
       "2155   16     1000    17.3      2699.99\n",
       "2156   16     1000    17.3      2899.99\n",
       "2157   32     1000    17.3      3399.99\n",
       "2158   16     1000    13.4      1899.99\n",
       "2159   16      256    13.4      1699.99\n",
       "\n",
       "[2160 rows x 4 columns]"
      ]
     },
     "execution_count": 106,
     "metadata": {},
     "output_type": "execute_result"
    }
   ],
   "source": [
    "df"
   ]
  },
  {
   "cell_type": "markdown",
   "id": "e5ffbb95-b18e-49b8-a525-29e64073a05b",
   "metadata": {},
   "source": [
    "**Check if final_price has a long tail**"
   ]
  },
  {
   "cell_type": "code",
   "execution_count": 107,
   "id": "c578e1e7-c407-4fb5-a990-eb9956311d1f",
   "metadata": {},
   "outputs": [
    {
     "data": {
      "image/png": "[encoded data removed]",
      "text/plain": [
       "<Figure size 600x400 with 1 Axes>"
      ]
     },
     "metadata": {},
     "output_type": "display_data"
    }
   ],
   "source": [
    "plt.figure(figsize=(6, 4))\n",
    "\n",
    "sns.histplot(df.final_price, bins=100, color='black', alpha=1)\n",
    "plt.ylabel('Frequency')\n",
    "plt.xlabel('Price')\n",
    "plt.title('Distribution of prices')\n",
    "\n",
    "plt.show()"
   ]
  },
  {
   "cell_type": "markdown",
   "id": "06b4da82-f0bf-4c64-90aa-f8a3bcba3fc6",
   "metadata": {},
   "source": [
    "**It has a long tail**"
   ]
  },
  {
   "cell_type": "markdown",
   "id": "646d69f3-e10b-467a-b82c-ac141854f97e",
   "metadata": {},
   "source": [
    "**Question 1\n",
    "There's one column with missing values. What is it?\n",
    "'ram'\n",
    "'storage'\n",
    "'screen'\n",
    "'final_price'**"
   ]
  },
  {
   "cell_type": "code",
   "execution_count": 108,
   "id": "209ded8e-ccc0-42a8-9aae-1189fa59a253",
   "metadata": {},
   "outputs": [
    {
     "data": {
      "text/plain": [
       "ram            0\n",
       "storage        0\n",
       "screen         4\n",
       "final_price    0\n",
       "dtype: int64"
      ]
     },
     "execution_count": 108,
     "metadata": {},
     "output_type": "execute_result"
    }
   ],
   "source": [
    "df.isnull().sum()"
   ]
  },
  {
   "cell_type": "markdown",
   "id": "a44cd616-2cf3-4539-ae87-9a6dc25af09d",
   "metadata": {},
   "source": [
    "**Question 2\n",
    "What's the median (50% percentile) for variable 'ram'?\n",
    "8\n",
    "16\n",
    "24\n",
    "32**"
   ]
  },
  {
   "cell_type": "code",
   "execution_count": 109,
   "id": "9b866d91-3819-40d7-841e-b686b8e5e4af",
   "metadata": {},
   "outputs": [
    {
     "data": {
      "text/plain": [
       "16.0"
      ]
     },
     "execution_count": 109,
     "metadata": {},
     "output_type": "execute_result"
    }
   ],
   "source": [
    "df.ram.median()"
   ]
  },
  {
   "cell_type": "markdown",
   "id": "643c8841-b418-48ad-b09a-8186bfb4d31d",
   "metadata": {},
   "source": [
    "**Prepare and split the dataset.**\n",
    "\n",
    "***Shuffle the dataset (the filtered one), use seed 42.**\n",
    "\n",
    "***Split data in train/val/test sets, with 60%/20%/20% distribution.**"
   ]
  },
  {
   "cell_type": "code",
   "execution_count": 110,
   "id": "e3409848-8094-41f1-9882-3505a5eebc47",
   "metadata": {},
   "outputs": [],
   "source": [
    "np.random.seed(42)\n",
    "\n",
    "n = len(df)\n",
    "\n",
    "#20%\n",
    "n_val = int(0.2 * n) \n",
    "#20%\n",
    "n_test = int(0.2 * n) \n",
    "#60%\n",
    "n_train = n - (n_val + n_test) \n",
    "\n",
    "#create index and shuffle it.\n",
    "idx = np.arange(n)\n",
    "np.random.shuffle(idx)\n",
    "df_shuffled = df.iloc[idx]\n",
    "\n",
    "df_train = df_shuffled.iloc[:n_train].copy()\n",
    "df_val = df_shuffled.iloc[n_train:n_train+n_val].copy()\n",
    "df_test = df_shuffled.iloc[n_train+n_val:].copy()\n",
    "\n",
    "y_train_orig = df_train.final_price.values\n",
    "y_val_orig = df_val.final_price.values\n",
    "y_test_orig = df_test.final_price.values\n",
    "\n",
    "y_train = np.log1p(df_train.final_price.values)\n",
    "y_val = np.log1p(df_val.final_price.values)\n",
    "y_test = np.log1p(df_test.final_price.values)\n",
    "\n",
    "del df_train['final_price']\n",
    "del df_val['final_price']\n",
    "del df_test['final_price']"
   ]
  },
  {
   "cell_type": "markdown",
   "id": "59c8c22d-789e-4342-926a-5ef32aa8b431",
   "metadata": {},
   "source": [
    "**Question 3**\n",
    "\n",
    "**fill missing values for the column from Q1.**\n",
    "\n",
    "**two options: fill it with 0 or with the mean of this variable.**\n",
    "\n",
    "**Try both options. For each, train a linear regression model without regularization**\n",
    "\n",
    "**Use the validation dataset to evaluate the models and compare the RMSE of each option.**\n",
    "\n",
    "**Round the RMSE scores to 2 decimal digits using round(score, 2)**\n",
    "\n",
    "**Which option gives better RMSE?**"
   ]
  },
  {
   "cell_type": "markdown",
   "id": "9cb21557-d6d0-414c-88d0-5cf26cf04ec9",
   "metadata": {},
   "source": [
    "\n",
    "**Dataframe fill empty values with 0**"
   ]
  },
  {
   "cell_type": "code",
   "execution_count": 111,
   "id": "ff04afc8-b7e9-4e77-beb8-d7ec9fbe5b77",
   "metadata": {},
   "outputs": [],
   "source": [
    "df_filled_with_zeros = df.fillna(0).copy()"
   ]
  },
  {
   "cell_type": "code",
   "execution_count": 112,
   "id": "765021cb-1b11-486b-a18c-835deefcdccd",
   "metadata": {},
   "outputs": [
    {
     "data": {
      "text/plain": [
       "ram            0\n",
       "storage        0\n",
       "screen         0\n",
       "final_price    0\n",
       "dtype: int64"
      ]
     },
     "execution_count": 112,
     "metadata": {},
     "output_type": "execute_result"
    }
   ],
   "source": [
    "df_filled_with_zeros.isnull().sum()"
   ]
  },
  {
   "cell_type": "markdown",
   "id": "8d1d9bc0-5d5b-43cb-a7bf-46ad19807c9f",
   "metadata": {},
   "source": [
    "**Dataframe fill empty values of train dataset with mean**"
   ]
  },
  {
   "cell_type": "code",
   "execution_count": 113,
   "id": "d8419223-d9fc-460a-b2cd-aa548effb26e",
   "metadata": {},
   "outputs": [],
   "source": [
    "df_filled_with_mean = df.fillna(df_train.mean()).copy()"
   ]
  },
  {
   "cell_type": "code",
   "execution_count": 114,
   "id": "115513ee-e897-47bc-bd46-32842d3a95e6",
   "metadata": {},
   "outputs": [
    {
     "data": {
      "text/plain": [
       "ram            0\n",
       "storage        0\n",
       "screen         0\n",
       "final_price    0\n",
       "dtype: int64"
      ]
     },
     "execution_count": 114,
     "metadata": {},
     "output_type": "execute_result"
    }
   ],
   "source": [
    "df_filled_with_mean.isnull().sum()"
   ]
  },
  {
   "cell_type": "markdown",
   "id": "0f4427f3-ea8a-4590-8572-47a364089ed4",
   "metadata": {},
   "source": [
    "**Check that the original dataframe wasn't modified**"
   ]
  },
  {
   "cell_type": "code",
   "execution_count": 115,
   "id": "ed40f756-6586-4f41-9226-71c015e81bb7",
   "metadata": {},
   "outputs": [
    {
     "data": {
      "text/plain": [
       "ram            0\n",
       "storage        0\n",
       "screen         4\n",
       "final_price    0\n",
       "dtype: int64"
      ]
     },
     "execution_count": 115,
     "metadata": {},
     "output_type": "execute_result"
    }
   ],
   "source": [
    "df.isnull().sum()"
   ]
  },
  {
   "cell_type": "markdown",
   "id": "2db9f951-b188-408f-9470-3d431cf08eff",
   "metadata": {},
   "source": [
    "**Training with linear regression**"
   ]
  },
  {
   "cell_type": "code",
   "execution_count": 116,
   "id": "a7c9d02d-57f3-41b2-bd34-67b701041889",
   "metadata": {},
   "outputs": [],
   "source": [
    "def train_linear_regression(X, y):\n",
    "    ones = np.ones(X.shape[0])\n",
    "    X = np.column_stack([ones, X])\n",
    "\n",
    "    XTX = X.T.dot(X)\n",
    "    XTX_inv = np.linalg.inv(XTX)\n",
    "    w = XTX_inv.dot(X.T).dot(y)\n",
    "    \n",
    "    return w[0], w[1:]"
   ]
  },
  {
   "cell_type": "code",
   "execution_count": 117,
   "id": "4f647704-fb53-42c6-bcad-b34a0e89a9a8",
   "metadata": {},
   "outputs": [],
   "source": [
    "w_0, w = train_linear_regression(df_train, y_train)"
   ]
  },
  {
   "cell_type": "code",
   "execution_count": 118,
   "id": "9fd1bb6e-609d-4f6f-94de-4d979856ecc4",
   "metadata": {},
   "outputs": [],
   "source": [
    "y_pred = w_0 + df_train.dot(w)"
   ]
  },
  {
   "cell_type": "code",
   "execution_count": 121,
   "id": "af14af8e-4e14-4efc-b6ee-45b4e4473b3e",
   "metadata": {},
   "outputs": [],
   "source": [
    "def rmse(y, y_pred):\n",
    "    error = y_pred - y\n",
    "    mse = (error ** 2).mean()\n",
    "    return np.sqrt(mse)"
   ]
  },
  {
   "cell_type": "code",
   "execution_count": 122,
   "id": "cb112bbc-9b1b-47f6-bef8-477b9f8181f7",
   "metadata": {},
   "outputs": [
    {
     "data": {
      "text/plain": [
       "nan"
      ]
     },
     "execution_count": 122,
     "metadata": {},
     "output_type": "execute_result"
    }
   ],
   "source": [
    "rmse(y_train, y_pred)"
   ]
  },
  {
   "cell_type": "code",
   "execution_count": null,
   "id": "c5186f28-5b48-4dbf-a888-c3f58398c2cc",
   "metadata": {},
   "outputs": [],
   "source": []
  }
 ],
 "metadata": {
  "kernelspec": {
   "display_name": "Python 3 (ipykernel)",
   "language": "python",
   "name": "python3"
  },
  "language_info": {
   "codemirror_mode": {
    "name": "ipython",
    "version": 3
   },
   "file_extension": ".py",
   "mimetype": "text/x-python",
   "name": "python",
   "nbconvert_exporter": "python",
   "pygments_lexer": "ipython3",
   "version": "3.12.4"
  }
 },
 "nbformat": 4,
 "nbformat_minor": 5
}
